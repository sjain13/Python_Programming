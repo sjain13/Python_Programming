{
 "cells": [
  {
   "cell_type": "markdown",
   "metadata": {},
   "source": [
    "### Dictionaries\n",
    "\n",
    "1. Dictionaries are unordered collection of items\n",
    "2. Stores data in Key-value pairs\n",
    "3. Keys must be unique and immutable(e.g., strings, numbers, or tuples), while values can be of any type"
   ]
  },
  {
   "cell_type": "code",
   "execution_count": 2,
   "metadata": {},
   "outputs": [
    {
     "name": "stdout",
     "output_type": "stream",
     "text": [
      "<class 'dict'>\n",
      "{}\n"
     ]
    }
   ],
   "source": [
    "## Creating dictionaries\n",
    "empty_dict={}\n",
    "print(type(empty_dict))\n",
    "\n",
    "# OR\n",
    "\n",
    "empty_dict=dict()\n",
    "print(empty_dict)"
   ]
  },
  {
   "cell_type": "code",
   "execution_count": 3,
   "metadata": {},
   "outputs": [
    {
     "name": "stdout",
     "output_type": "stream",
     "text": [
      "{'name': 'Shipra', 'age': 40}\n"
     ]
    }
   ],
   "source": [
    "student={\"name\":\"Shipra\", \"age\":40}\n",
    "print(student)"
   ]
  },
  {
   "cell_type": "code",
   "execution_count": null,
   "metadata": {},
   "outputs": [
    {
     "name": "stdout",
     "output_type": "stream",
     "text": [
      "{'name': 32, 'age': 40}\n"
     ]
    }
   ],
   "source": [
    "# Key is unique\n",
    "student={\"name\":\"Shipra\", \"age\":40, \"name\":32}\n",
    "print(student)"
   ]
  },
  {
   "cell_type": "code",
   "execution_count": 9,
   "metadata": {},
   "outputs": [
    {
     "name": "stdout",
     "output_type": "stream",
     "text": [
      "40\n",
      "40\n",
      "None\n",
      "Default val\n"
     ]
    }
   ],
   "source": [
    "# Accessing values\n",
    "print(student[\"age\"])\n",
    "\n",
    "## Access using get method\n",
    "print(student.get(\"age\"))\n",
    "print(student.get(\"grade\"))\n",
    "\n",
    "print(student.get(\"grade\", \"Default val\"))"
   ]
  },
  {
   "cell_type": "code",
   "execution_count": 13,
   "metadata": {},
   "outputs": [
    {
     "name": "stdout",
     "output_type": "stream",
     "text": [
      "{'name': 'Shipra', 'age': 40, 'country': 'IN'}\n"
     ]
    }
   ],
   "source": [
    "# Modifying Dictionary element, Dictionary values are mutables we can add, update or delete elements\n",
    "\n",
    "student[\"name\"] = \"Shipra\"\n",
    "student[\"age\"] = 40\n",
    "student[\"country\"] = \"IN\"\n",
    "\n",
    "print(student)\n",
    "\n"
   ]
  },
  {
   "cell_type": "code",
   "execution_count": 14,
   "metadata": {},
   "outputs": [
    {
     "name": "stdout",
     "output_type": "stream",
     "text": [
      "{'name': 'Shipra', 'country': 'IN'}\n"
     ]
    }
   ],
   "source": [
    "# delete key and value pair\n",
    "\n",
    "del student['age']\n",
    "print(student)"
   ]
  },
  {
   "cell_type": "code",
   "execution_count": 16,
   "metadata": {},
   "outputs": [
    {
     "name": "stdout",
     "output_type": "stream",
     "text": [
      "dict_keys(['name', 'country'])\n",
      "dict_values(['Shipra', 'IN'])\n",
      "dict_items([('name', 'Shipra'), ('country', 'IN')])\n"
     ]
    }
   ],
   "source": [
    "# Dictionary Methods\n",
    "keys=student.keys()\n",
    "print(keys)\n",
    "values = student.values()\n",
    "\n",
    "print(values)\n",
    "\n",
    "items = student.items()\n",
    "print(items)"
   ]
  },
  {
   "cell_type": "code",
   "execution_count": 21,
   "metadata": {},
   "outputs": [
    {
     "name": "stdout",
     "output_type": "stream",
     "text": [
      "{'name': 'Shipra2', 'country': 'IN'}\n",
      "{'name': 'Shipra2', 'country': 'IN'}\n",
      "{'name': 'Shipra2', 'country': 'IN'}\n",
      "{'name': 'Shipra', 'country': 'IN'}\n",
      "{'name': 'Shipra2', 'country': 'IN'}\n"
     ]
    }
   ],
   "source": [
    "## Shallow copy\n",
    "\n",
    "student_copy=student\n",
    "print(student)\n",
    "print(student_copy)\n",
    "\n",
    "student[\"name\"]=\"Shipra2\"\n",
    "print(student_copy)\n",
    "\n",
    "student_copy=student.copy() #shallow copy\n",
    "student[\"name\"]=\"Shipra\"\n",
    "print(student)\n",
    "print(student_copy)\n",
    "\n"
   ]
  },
  {
   "cell_type": "code",
   "execution_count": 24,
   "metadata": {},
   "outputs": [
    {
     "name": "stdout",
     "output_type": "stream",
     "text": [
      "name\n",
      "country\n",
      "Shipra\n",
      "IN\n",
      "name:Shipra\n",
      "country:IN\n"
     ]
    }
   ],
   "source": [
    "# Iterating over Dictionaries\n",
    "\n",
    "for key in student.keys():\n",
    "    print(key)\n",
    "\n",
    "for val in student.values():\n",
    "    print(val)\n",
    "\n",
    "for key,val in student.items():\n",
    "    print(f\"{key}:{val}\")\n"
   ]
  },
  {
   "cell_type": "code",
   "execution_count": 26,
   "metadata": {},
   "outputs": [
    {
     "name": "stdout",
     "output_type": "stream",
     "text": [
      "{'student1': {'name': 'shipra', 'Country': 'IN'}, 'student2': {'name': 'Lucky', 'Country': 'US'}}\n",
      "Lucky\n"
     ]
    }
   ],
   "source": [
    "# Nested Dictionaries\n",
    "students={\n",
    "    \"student1\":{\"name\":\"shipra\",\"Country\":\"IN\"},\n",
    "    \"student2\":{\"name\":\"Lucky\",\"Country\":\"US\"}\n",
    "}\n",
    "\n",
    "print(students)\n",
    "\n",
    "# Access Nested Dictionaries\n",
    "print(students[\"student2\"][\"name\"])\n"
   ]
  },
  {
   "cell_type": "code",
   "execution_count": 28,
   "metadata": {},
   "outputs": [
    {
     "name": "stdout",
     "output_type": "stream",
     "text": [
      "student1:{'name': 'shipra', 'Country': 'IN'}\n",
      "name:shipra\n",
      "Country:IN\n",
      "student2:{'name': 'Lucky', 'Country': 'US'}\n",
      "name:Lucky\n",
      "Country:US\n"
     ]
    }
   ],
   "source": [
    "# Iterating over nested dictionaries\n",
    "\n",
    "for stu_id, stu_info in students.items():\n",
    "    print(f\"{stu_id}:{stu_info}\")\n",
    "    for key,val in stu_info.items():\n",
    "        print(f\"{key}:{val}\")"
   ]
  },
  {
   "cell_type": "code",
   "execution_count": 29,
   "metadata": {},
   "outputs": [
    {
     "name": "stdout",
     "output_type": "stream",
     "text": [
      "{0: 0, 1: 1, 2: 4, 3: 9, 4: 16}\n"
     ]
    }
   ],
   "source": [
    "# Dictonary Comprehension\n",
    "\n",
    "squares={x:x**2 for x in range(5)}\n",
    "print(squares)"
   ]
  },
  {
   "cell_type": "code",
   "execution_count": 30,
   "metadata": {},
   "outputs": [
    {
     "name": "stdout",
     "output_type": "stream",
     "text": [
      "{0: 0, 2: 4, 4: 16, 6: 36, 8: 64}\n"
     ]
    }
   ],
   "source": [
    "## Conditional dictinary Comprehension\n",
    "\n",
    "even = {x:x**2 for x in range(10) if x%2==0}\n",
    "print(even)"
   ]
  },
  {
   "cell_type": "code",
   "execution_count": 31,
   "metadata": {},
   "outputs": [
    {
     "name": "stdout",
     "output_type": "stream",
     "text": [
      "{1: 1, 2: 2, 3: 4, 4: 4}\n"
     ]
    }
   ],
   "source": [
    "# Use dictionary to count frequency of elements in the list\n",
    "\n",
    "numbers = [1,2,3,2,3,3,3,4,4,4,4]\n",
    "frequency={}\n",
    "\n",
    "for num in numbers:\n",
    "    if num in frequency:\n",
    "        frequency[num]+=1\n",
    "    else:\n",
    "        frequency[num]=1\n",
    "print(frequency)"
   ]
  },
  {
   "cell_type": "code",
   "execution_count": 32,
   "metadata": {},
   "outputs": [
    {
     "name": "stdout",
     "output_type": "stream",
     "text": [
      "{'a': 1, 'b': 2, 'c': 3, 'd': 4}\n"
     ]
    }
   ],
   "source": [
    "#Merge Dictionaries\n",
    "\n",
    "dict1 = {\"a\":1, \"b\":2}\n",
    "dict2 = {\"c\":3, \"d\":4}\n",
    "\n",
    "merged_dict = {**dict1, **dict2}\n",
    "\n",
    "print(merged_dict)\n",
    "\n"
   ]
  }
 ],
 "metadata": {
  "kernelspec": {
   "display_name": "Python 3",
   "language": "python",
   "name": "python3"
  },
  "language_info": {
   "codemirror_mode": {
    "name": "ipython",
    "version": 3
   },
   "file_extension": ".py",
   "mimetype": "text/x-python",
   "name": "python",
   "nbconvert_exporter": "python",
   "pygments_lexer": "ipython3",
   "version": "3.10.0"
  }
 },
 "nbformat": 4,
 "nbformat_minor": 2
}
